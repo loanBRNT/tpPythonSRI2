{
 "cells": [
  {
   "cell_type": "markdown",
   "metadata": {
    "pycharm": {
     "name": "#%% md\n"
    }
   },
   "source": [
    "## TP3: Un peu d'analyse de données"
   ]
  },
  {
   "cell_type": "markdown",
   "metadata": {
    "pycharm": {
     "name": "#%% md\n"
    }
   },
   "source": [
    "On va faire un peu d'analyse de données, avec ou sans numpy et ses matrices.\n",
    "\n",
    "Au passage, on va voir comment faire un peu de visualisation en Python, en utilisant le module\n",
    "matplotlib (librairie en plus, mais disponible avec tous les outils scientifiques)\n",
    "\n",
    "La commande essentielle, plot, prend deux listes de coordonnées (abscisses et ordonnées), et trace la courbe correspondante reliant les points. Spyder gère automatiquement l'affichage dans sa console IPython.\n",
    "\n",
    "**Ce TP sera à rendre** cf le devoir sur moodle qui sera ouvert \n",
    "\n",
    "**Utilisez le notebook** ce sera plus simple pour tester + mettre vos analyses/commentaires"
   ]
  },
  {
   "cell_type": "code",
   "execution_count": 1,
   "metadata": {
    "pycharm": {
     "name": "#%%\n"
    }
   },
   "outputs": [],
   "source": [
    "%matplotlib inline\n",
    "from IPython.display import Image"
   ]
  },
  {
   "cell_type": "code",
   "execution_count": 2,
   "metadata": {
    "pycharm": {
     "name": "#%%\n"
    }
   },
   "outputs": [
    {
     "name": "stdout",
     "output_type": "stream",
     "text": [
      "Parabole:\n"
     ]
    },
    {
     "data": {
      "image/png": "[encoded data removed]",
      "text/plain": [
       "<Figure size 432x288 with 1 Axes>"
      ]
     },
     "metadata": {
      "needs_background": "light"
     },
     "output_type": "display_data"
    }
   ],
   "source": [
    "import matplotlib.pyplot as plt\n",
    "\n",
    "plt.plot([1,2,3,4,5],[1,4,9,16,25])\n",
    "print(\"Parabole:\")"
   ]
  },
  {
   "cell_type": "markdown",
   "metadata": {
    "pycharm": {
     "name": "#%% md\n"
    }
   },
   "source": [
    "En option, on peut définir une couleur et une forme avec une chaine en 3e argument (\"r\" pour red, \"o\" pour un point)"
   ]
  },
  {
   "cell_type": "code",
   "execution_count": 3,
   "metadata": {
    "pycharm": {
     "name": "#%%\n"
    }
   },
   "outputs": [
    {
     "name": "stdout",
     "output_type": "stream",
     "text": [
      "Parabole\n"
     ]
    },
    {
     "data": {
      "image/png": "[encoded data removed]",
      "text/plain": [
       "<Figure size 432x288 with 1 Axes>"
      ]
     },
     "metadata": {
      "needs_background": "light"
     },
     "output_type": "display_data"
    }
   ],
   "source": [
    "plt.plot([1,2,3,4,5],[1,4,9,16,25],\"ro\")\n",
    "print(\"Parabole\")"
   ]
  },
  {
   "cell_type": "code",
   "execution_count": null,
   "metadata": {
    "pycharm": {
     "name": "#%%\n",
     "is_executing": true
    }
   },
   "outputs": [],
   "source": [
    "#quelques variantes\n",
    "plt.plot([1,2,3,4,5],[1,4,9,16,25],\"bX\",markersize=15,alpha=0.5)\n",
    "print()"
   ]
  },
  {
   "cell_type": "markdown",
   "metadata": {
    "pycharm": {
     "name": "#%% md\n"
    }
   },
   "source": [
    "Pour contrôler un peu l'affichage, on peut fixer les extrémités des axes, et les forcer à être à la même échelle"
   ]
  },
  {
   "cell_type": "code",
   "execution_count": 5,
   "metadata": {
    "pycharm": {
     "name": "#%%\n"
    }
   },
   "outputs": [
    {
     "name": "stdout",
     "output_type": "stream",
     "text": [
      "Parabole encore\n"
     ]
    },
    {
     "data": {
      "image/png": "[encoded data removed]",
      "text/plain": [
       "<Figure size 432x288 with 1 Axes>"
      ]
     },
     "metadata": {
      "needs_background": "light"
     },
     "output_type": "display_data"
    }
   ],
   "source": [
    "plt.axes().set_aspect('equal')\n",
    "plt.xlim(0,25)\n",
    "plt.ylim(0,25)\n",
    "\n",
    "plt.plot([1,2,3,4,5],[1,4,9,16,25],\"ro\")\n",
    "print(\"Parabole encore\")"
   ]
  },
  {
   "cell_type": "markdown",
   "metadata": {
    "pycharm": {
     "name": "#%% md\n"
    }
   },
   "source": [
    "### Première partie: classification \n",
    "\n",
    "Passons maintenant aux choses sérieuses. On va considérer que l'on a des données de deux types différents (appelons les \"rouge\" et \"bleu\"), caractérisées par deux valeurs entre 0 et 1. \n",
    "On pourrait alors avoir une visualisation comme ceci: "
   ]
  },
  {
   "cell_type": "code",
   "execution_count": 6,
   "metadata": {
    "pycharm": {
     "name": "#%%\n"
    }
   },
   "outputs": [
    {
     "data": {
      "image/png": "[encoded data removed]",
      "text/plain": [
       "<IPython.core.display.Image object>"
      ]
     },
     "execution_count": 6,
     "metadata": {},
     "output_type": "execute_result"
    }
   ],
   "source": [
    "Image(filename=\"TP/blobs2.png\")"
   ]
  },
  {
   "cell_type": "markdown",
   "metadata": {
    "pycharm": {
     "name": "#%% md\n"
    }
   },
   "source": [
    "Le but de ce TP est de définir un moyen de \"classer\" une nouvelle donnée pour dire si elle est plutôt de la classe bleue ou rouge. \n",
    "Pour cela, un moyen simple (voire simplet, mais vous creuserez la question au 2e semestre), est de calculer le barycentre\n",
    "(centre de gravité) des points de chaque classe, ici en jaune: \n",
    "<img src=\"TP/blobs2_centres.png\">\n",
    "\n",
    "Puis de considérer leur médiatrice: \n",
    "<img src=\"TP/blobs2_separateur.png\">\n",
    "\n",
    "En enfin de considérer que tout ce qui est du même côté que le groupe bleu/rouge doit être bleu/rouge:\n",
    "<img src=\"TP/classif_barycentre.png\">"
   ]
  },
  {
   "cell_type": "markdown",
   "metadata": {
    "pycharm": {
     "name": "#%% md\n"
    }
   },
   "source": [
    "Evidemment, ça ne marchera pas pour tout type de données: \n",
    "<img src=\"TP/classif_ouch.png\">"
   ]
  },
  {
   "cell_type": "markdown",
   "metadata": {
    "pycharm": {
     "name": "#%% md\n"
    }
   },
   "source": [
    "Cette méthode nécessite que les données soit séparables linéairement. Mais passons. \n",
    "Votre tâche: \n",
    "\n",
    "1. en utilisant la fonction random.random(), faire une fonction qui génère un \"nuage\" de n points autour d'une position donnée ($x_0$,$y_0$), avec un étalage réglable (distance maxi par rapport à la position donnée). Par exemple, la figure initiale a été générée avec les paramètres (vous être libre du nom de la fonction):\n",
    "     > g1 = blob(0.3,0.6,20,scale=0.1)\n",
    "     \n",
    "     > g2 = blob(0.6,0.4,15,scale=0.15) \n",
    " \n",
    "     La fonction renvoie juste les coordonnées. \n",
    "     \n",
    "     Ecrivez aussi une fonction qui prend la sortie de \"blob\" et fait la figure du nuage en utilisant plt.plot\n",
    " \n",
    "2. Ecrivez une fonction qui détermine le centre d'un groupe\n",
    " "
   ]
  },
  {
   "cell_type": "markdown",
   "metadata": {
    "pycharm": {
     "name": "#%% md\n"
    }
   },
   "source": [
    "  Voici une fonction qui calcule le séparateur de deux groupes (la médiatrice): pour cela il suffit de renvoyer un point de la droite, par exemple le milieu M des centres des 2 groupes, et un vecteur normal à la droite $\\vec{w}$ (par exemple le vecteur défini par les deux centres). La fonction suppose que la fonction \"centre\" a déjà été écrite, \n",
    "  et que g1, g2, c1 et c2 sont des vecteurs ou matrices numpy. Adaptez si vous avez fait différemment pour les fonctions blob et centre. \n",
    "  \n",
    "La fonction qui affiche le séparateur est donnée aussi"
   ]
  },
  {
   "cell_type": "code",
   "execution_count": 7,
   "metadata": {
    "pycharm": {
     "name": "#%%\n"
    }
   },
   "outputs": [],
   "source": [
    "def separateur(g1,g2):\n",
    "    \"\"\"renvoie le milieu du segment qui relie les centres de g1 et g2, et un vecteur directeur de la médiatrice\"\"\"\n",
    "    c1 = centre(g1)\n",
    "    c2 = centre(g2)\n",
    "    m = 0.5*(c1+c2)\n",
    "    c1x, c1y = c1\n",
    "    c2x, c2y = c2\n",
    "    return (m,(c1x-c2x,c1y-c2y))\n",
    "\n",
    "\n",
    "\n",
    "    \n",
    "def plot_separateur(m,w,scale=3):\n",
    "    \"\"\"à partir d'un point M et un vecteur directeur w, trace un segment de la droite correspondante\n",
    "    (échelle/scale à ajuster selon la figure)\n",
    "    \"\"\"\n",
    "    tw = (-w[1],w[0])\n",
    "    plt.plot([m[0]+scale*tw[0],m[0]-scale*tw[0]],[m[1]+scale*tw[1],m[1]-scale*tw[1]],\"y-\")\n",
    "\n"
   ]
  },
  {
   "cell_type": "markdown",
   "metadata": {
    "pycharm": {
     "name": "#%% md\n"
    }
   },
   "source": [
    "Ceci devrait vous aider à générer une figure similaire à celle-ci: \n",
    "    <img src=\"TP/blobs2_separateur.png\">"
   ]
  },
  {
   "cell_type": "markdown",
   "metadata": {
    "pycharm": {
     "name": "#%% md\n"
    }
   },
   "source": [
    "  \n",
    "  3. Ecrivez une fonction qui classifie un point P par rapport à cette droite: ici le critère est déterminé par rapport à l'angle entre $\\vec{MP}$ et $\\vec{w}$, soit $cos(\\vec{MP},\\vec{w})>0$ (ou inférieur), ou encore\n",
    "  $\\vec{MP}\\cdot\\vec{w}>0$ (ou inférieur).\n",
    "  \n",
    "  Ensuite générer des points au hasard avec des coordonnées entre 0 et 1, et afficher les comme des croix (symbole 'x') avec la couleur correspondant à la classe prédite par la fonction précédente.\n",
    "  \n",
    " "
   ]
  },
  {
   "cell_type": "markdown",
   "metadata": {
    "pycharm": {
     "name": "#%% md\n"
    }
   },
   "source": [
    "Bonus: vous pouvez essayer aussi avec des données \"tordues\", cf certains jeux de test de la librairie scikit-learn (et faire un peu de numpy !)"
   ]
  },
  {
   "cell_type": "code",
   "execution_count": 46,
   "metadata": {
    "pycharm": {
     "name": "#%%\n"
    }
   },
   "outputs": [
    {
     "data": {
      "text/plain": [
       "<matplotlib.collections.PathCollection at 0x7f5427ac3670>"
      ]
     },
     "execution_count": 46,
     "metadata": {},
     "output_type": "execute_result"
    },
    {
     "data": {
      "image/png": "[encoded data removed]",
      "text/plain": [
       "<Figure size 432x288 with 1 Axes>"
      ]
     },
     "metadata": {
      "needs_background": "light"
     },
     "output_type": "display_data"
    }
   ],
   "source": [
    "from sklearn.datasets import make_moons, make_circles\n",
    "d = make_moons(noise=0.3, random_state=0)\n",
    "xy, c = d\n",
    "plt.scatter(xy[:,0],xy[:,1],c=c)"
   ]
  },
  {
   "cell_type": "markdown",
   "metadata": {
    "pycharm": {
     "name": "#%% md\n"
    }
   },
   "source": [
    "### Deuxième partie: de \"vraies\" données\n",
    "\n",
    "Vous pouvez maintenant utiliser le fichier \"iris.txt\", en annexe du sujet. Celui-ci contient des caractéristiques de différentes fleurs de l'espèce iris, réparties en trois sous-espèces \"setosa\", \"virginica\", \"versicolor\". \n",
    "\n",
    "Vous pouvez utiliser numpy pour lire directement les données: "
   ]
  },
  {
   "cell_type": "code",
   "execution_count": 8,
   "metadata": {
    "pycharm": {
     "name": "#%%\n"
    }
   },
   "outputs": [],
   "source": [
    "import numpy as np\n",
    "data = np.genfromtxt('iris.txt', dtype=None,delimiter=',',names=True,encoding=None)"
   ]
  },
  {
   "cell_type": "markdown",
   "metadata": {
    "pycharm": {
     "name": "#%% md\n"
    }
   },
   "source": [
    "Si on regarde le résultat, on voit que cela donne une matrice de tuples, avec les caractéristiques et la classe de chaque instance. On a aussi une liste de noms des \"colonnes\" de ces données: "
   ]
  },
  {
   "cell_type": "code",
   "execution_count": 9,
   "metadata": {
    "pycharm": {
     "name": "#%%\n"
    }
   },
   "outputs": [
    {
     "data": {
      "text/plain": [
       "array([(5.1, 3.5, 1.4, 0.2, 'Iris-setosa'),\n",
       "       (4.9, 3. , 1.4, 0.2, 'Iris-setosa'),\n",
       "       (4.7, 3.2, 1.3, 0.2, 'Iris-setosa'),\n",
       "       (4.6, 3.1, 1.5, 0.2, 'Iris-setosa')],\n",
       "      dtype=[('sepal_l', '<f8'), ('sepal_w', '<f8'), ('petal_l', '<f8'), ('petal_w', '<f8'), ('classe', '<U15')])"
      ]
     },
     "execution_count": 9,
     "metadata": {},
     "output_type": "execute_result"
    }
   ],
   "source": [
    "data[:4]"
   ]
  },
  {
   "cell_type": "markdown",
   "metadata": {
    "pycharm": {
     "name": "#%% md\n"
    }
   },
   "source": [
    "On peut alors récupérer les colonnes par leur nom: "
   ]
  },
  {
   "cell_type": "code",
   "execution_count": 10,
   "metadata": {
    "pycharm": {
     "name": "#%%\n"
    }
   },
   "outputs": [
    {
     "data": {
      "text/plain": [
       "array(['Iris-setosa', 'Iris-setosa', 'Iris-setosa', 'Iris-setosa',\n",
       "       'Iris-setosa', 'Iris-setosa', 'Iris-setosa', 'Iris-setosa',\n",
       "       'Iris-setosa', 'Iris-setosa'], dtype='<U15')"
      ]
     },
     "execution_count": 10,
     "metadata": {},
     "output_type": "execute_result"
    }
   ],
   "source": [
    "data[\"classe\"][:10]"
   ]
  },
  {
   "cell_type": "code",
   "execution_count": 11,
   "metadata": {
    "pycharm": {
     "name": "#%%\n"
    }
   },
   "outputs": [
    {
     "data": {
      "text/plain": [
       "array([5.1, 4.9, 4.7, 4.6, 5. , 5.4, 4.6, 5. , 4.4, 4.9])"
      ]
     },
     "execution_count": 11,
     "metadata": {},
     "output_type": "execute_result"
    }
   ],
   "source": [
    "data[\"sepal_l\"][:10]"
   ]
  },
  {
   "cell_type": "markdown",
   "metadata": {
    "pycharm": {
     "name": "#%% md\n"
    }
   },
   "source": [
    "A vous de jouer, pour: \n",
    "    \n",
    "   1. Faire une fonction qui affiche 2 caractéristiques choisies sur ces données, donnant une couleur différente à chaque groupe. Utilisez les fonctionalités de numpy. Par exemple: <img src=\"TP/iris_test.png\">\n",
    "   2. Appliquer la première partie pour trouver des séparateurs des données, en considérant qu'il faut un séparateur pour chaque groupe par rapport aux deux autres ensembles (toujours restreint à deux caractéristiques).\n",
    "    Trouver les 2 meilleures caractéristiques à prendre pour une bonne séparation. \n",
    "   3. Tester vos \"modèles\" en calculant les séparateurs avec un sous-ensemble aléatoire des données, et en évaluant s'ils classent correctement les données restantes. \n",
    "       \n",
    "       \n",
    "Et voilà, vous avez fait votre premier programme qui apprend automatiquement ..."
   ]
  },
  {
   "cell_type": "code",
   "execution_count": null,
   "outputs": [],
   "source": [],
   "metadata": {
    "collapsed": false,
    "pycharm": {
     "name": "#%%\n"
    }
   }
  }
 ],
 "metadata": {
  "kernelspec": {
   "display_name": "visual",
   "language": "python",
   "name": "visual"
  },
  "language_info": {
   "codemirror_mode": {
    "name": "ipython",
    "version": 3
   },
   "file_extension": ".py",
   "mimetype": "text/x-python",
   "name": "python",
   "nbconvert_exporter": "python",
   "pygments_lexer": "ipython3",
   "version": "3.8.10"
  }
 },
 "nbformat": 4,
 "nbformat_minor": 1
}